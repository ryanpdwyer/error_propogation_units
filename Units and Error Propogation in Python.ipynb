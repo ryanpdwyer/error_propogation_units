{
 "metadata": {
  "name": ""
 },
 "nbformat": 3,
 "nbformat_minor": 0,
 "worksheets": [
  {
   "cells": [
    {
     "cell_type": "markdown",
     "metadata": {},
     "source": [
      "# Units and Error Propagation for Physics in Python\n",
      "\n",
      "To do math with units and errors (uncertainities), use the Python packages *pint* (http://pint.readthedocs.org/en/latest/) and *uncertainties* (http://pythonhosted.org/uncertainties/). While *pint* has rudimentary support for error proporation, *uncertainties* is much more robust."
     ]
    },
    {
     "cell_type": "markdown",
     "metadata": {},
     "source": [
      "## Pint\n",
      "\n",
      "To use *pint,* first define a unit registry."
     ]
    },
    {
     "cell_type": "code",
     "collapsed": false,
     "input": [
      "from pint import UnitRegistry\n",
      "\n",
      "u = UnitRegistry"
     ],
     "language": "python",
     "metadata": {},
     "outputs": []
    },
    {
     "cell_type": "markdown",
     "metadata": {},
     "source": [
      "Then, define unitted quantities using \"dot\" syntax on the unit registry. All standard SI units and their prefixes are already defined."
     ]
    },
    {
     "cell_type": "code",
     "collapsed": false,
     "input": [
      "f_c = 50 * u.kHz\n",
      "k_c = 3 * u.N/u.m\n",
      "Q = 10000 # or Q = 10000 * u.dimensionless"
     ],
     "language": "python",
     "metadata": {},
     "outputs": [],
     "prompt_number": 3
    },
    {
     "cell_type": "markdown",
     "metadata": {},
     "source": [
      "Then we can calculate, for example, the intrinsic cantilever dissipation."
     ]
    },
    {
     "cell_type": "code",
     "collapsed": false,
     "input": [
      "from numpy import pi\n",
      "\n",
      "def calc_Gamma_i(f_c, k_c, Q):\n",
      "        \"\"\"Calculate the cantilever's intrinsic dissipation.\"\"\"\n",
      "        return k_c / (2 * pi * f_c * Q)\n",
      "\n",
      "Gamma_i = calc_Gamma_i(f_c, k_c, Q)\n",
      "\n",
      "print Gamma_i\n",
      "print Gamma_i.ito(u.pN*u.s/u.m)"
     ],
     "language": "python",
     "metadata": {},
     "outputs": [
      {
       "output_type": "stream",
       "stream": "stdout",
       "text": [
        "9.54929658551e-07 newton / kilohertz / meter\n",
        "954.929658551 piconewton * second / meter\n",
        "9.54929658551e-07 gram / second\n"
       ]
      }
     ],
     "prompt_number": 20
    },
    {
     "cell_type": "markdown",
     "metadata": {},
     "source": [
      "The \"ito\" method allows us to convert the quantity to the specified units."
     ]
    },
    {
     "cell_type": "markdown",
     "metadata": {},
     "source": [
      "## Uncertainties\n",
      "\n",
      "To use uncertainties, import the uncertain float type."
     ]
    },
    {
     "cell_type": "code",
     "collapsed": false,
     "input": [
      "from uncertainties import ufloat"
     ],
     "language": "python",
     "metadata": {},
     "outputs": [],
     "prompt_number": 21
    },
    {
     "cell_type": "markdown",
     "metadata": {},
     "source": [
      "Then, just define quantities using ufloat, and the package will propogate errors."
     ]
    },
    {
     "cell_type": "code",
     "collapsed": false,
     "input": [
      "from uncertainties.umath import sin\n",
      "print ufloat(3, 0.3) + ufloat(2, 0.5)\n",
      "\n",
      "print sin(ufloat(0.3, 0.03))"
     ],
     "language": "python",
     "metadata": {},
     "outputs": [
      {
       "output_type": "stream",
       "stream": "stdout",
       "text": [
        "5.0+/-0.6\n",
        "0.296+/-0.029\n"
       ]
      }
     ],
     "prompt_number": 29
    },
    {
     "cell_type": "markdown",
     "metadata": {},
     "source": [
      "Use trigonometric and exponential functions from uncertainties.umath to automatically propogate errors for those functions too."
     ]
    },
    {
     "cell_type": "markdown",
     "metadata": {},
     "source": [
      "## Using Pint and Uncertainties together\n",
      "To use them together, just define a ufloat and assign it units. Going back to our original example,"
     ]
    },
    {
     "cell_type": "code",
     "collapsed": false,
     "input": [
      "f_cE = ufloat(50000, 0.5) * u.Hz\n",
      "k_cE = ufloat(3,0.3) * u.N/u.m\n",
      "QE = ufloat(10000, 200)\n",
      "\n",
      "Gamma_iE = calc_Gamma_i(f_cE, k_cE, QE)\n",
      "\n",
      "print Gamma_iE.ito(u.pN*u.s/u.m)"
     ],
     "language": "python",
     "metadata": {},
     "outputs": [
      {
       "output_type": "stream",
       "stream": "stdout",
       "text": [
        "(9.5+/-1.0)e+02 piconewton * second / meter\n"
       ]
      }
     ],
     "prompt_number": 30
    },
    {
     "cell_type": "code",
     "collapsed": false,
     "input": [],
     "language": "python",
     "metadata": {},
     "outputs": []
    }
   ],
   "metadata": {}
  }
 ]
}